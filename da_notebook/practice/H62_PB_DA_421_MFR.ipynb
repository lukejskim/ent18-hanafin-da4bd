{
 "cells": [
  {
   "cell_type": "markdown",
   "metadata": {},
   "source": [
    "# Industry 4.0 의 중심, BigData"
   ]
  },
  {
   "cell_type": "markdown",
   "metadata": {},
   "source": [
    "<div align='right'><font size=2 color='gray'>Data Processing Based Python @ <font color='blue'><a href='https://www.facebook.com/jskim.kr'>FB / jskim.kr</a></font>, [김진수](bigpycraft@gmail.com)</font></div>\n",
    "<hr>"
   ]
  },
  {
   "cell_type": "markdown",
   "metadata": {
    "collapsed": true
   },
   "source": [
    "## Lambda Operator"
   ]
  },
  {
   "cell_type": "markdown",
   "metadata": {},
   "source": [
    "### <font color='blue'>일반 함수</font>"
   ]
  },
  {
   "cell_type": "code",
   "execution_count": 1,
   "metadata": {
    "collapsed": true
   },
   "outputs": [],
   "source": [
    "def hello():\n",
    "    return \"Hey guys, Let's get it !\""
   ]
  },
  {
   "cell_type": "code",
   "execution_count": 2,
   "metadata": {},
   "outputs": [
    {
     "data": {
      "text/plain": [
       "\"Hey guys, Let's get it !\""
      ]
     },
     "execution_count": 2,
     "metadata": {},
     "output_type": "execute_result"
    }
   ],
   "source": [
    "hello()"
   ]
  },
  {
   "cell_type": "code",
   "execution_count": 3,
   "metadata": {
    "collapsed": true
   },
   "outputs": [],
   "source": [
    "def double(x):\n",
    "    return x * 2"
   ]
  },
  {
   "cell_type": "code",
   "execution_count": 4,
   "metadata": {},
   "outputs": [
    {
     "data": {
      "text/plain": [
       "200"
      ]
     },
     "execution_count": 4,
     "metadata": {},
     "output_type": "execute_result"
    }
   ],
   "source": [
    "double(100)"
   ]
  },
  {
   "cell_type": "markdown",
   "metadata": {},
   "source": [
    "### <font color='blue'>람다 함수</font>"
   ]
  },
  {
   "cell_type": "code",
   "execution_count": 5,
   "metadata": {},
   "outputs": [
    {
     "data": {
      "text/plain": [
       "<function __main__.<lambda>>"
      ]
     },
     "execution_count": 5,
     "metadata": {},
     "output_type": "execute_result"
    }
   ],
   "source": [
    "(lambda x: x * 2)"
   ]
  },
  {
   "cell_type": "code",
   "execution_count": 6,
   "metadata": {},
   "outputs": [
    {
     "data": {
      "text/plain": [
       "400"
      ]
     },
     "execution_count": 6,
     "metadata": {},
     "output_type": "execute_result"
    }
   ],
   "source": [
    "(lambda x: x * 2)(200)"
   ]
  },
  {
   "cell_type": "code",
   "execution_count": 7,
   "metadata": {
    "collapsed": true
   },
   "outputs": [],
   "source": [
    "# 익명 함수를 만들어서, 그 위치를 double2 이라는 변수에 저장\n",
    "double2 = lambda x: x * 2"
   ]
  },
  {
   "cell_type": "code",
   "execution_count": 8,
   "metadata": {},
   "outputs": [
    {
     "data": {
      "text/plain": [
       "600"
      ]
     },
     "execution_count": 8,
     "metadata": {},
     "output_type": "execute_result"
    }
   ],
   "source": [
    "double2(300)"
   ]
  },
  {
   "cell_type": "code",
   "execution_count": 9,
   "metadata": {},
   "outputs": [
    {
     "data": {
      "text/plain": [
       "<function __main__.<lambda>>"
      ]
     },
     "execution_count": 9,
     "metadata": {},
     "output_type": "execute_result"
    }
   ],
   "source": [
    "double2    "
   ]
  },
  {
   "cell_type": "markdown",
   "metadata": {
    "collapsed": true
   },
   "source": [
    "### <font color='brown'>Missions</font>\n",
    "> \n",
    "#### 미션1 : 리스트를 받아서, 제곱수의 리스트  \n",
    "- Input: 1부터 10까지의 자연수 ⇒ Output : [ 1, 4, 9, ..., 100 ] \n",
    "> \n",
    "#### 미션2 : 리스트를 받아서, 양수인 element 만 새로운 리스트 \n",
    "- Input: [1, -2, 3, -4, 5] ⇒ Output : [1, 3, 5]"
   ]
  },
  {
   "cell_type": "markdown",
   "metadata": {},
   "source": [
    "### <font color='blue'>미션1</font>"
   ]
  },
  {
   "cell_type": "code",
   "execution_count": 10,
   "metadata": {
    "collapsed": true
   },
   "outputs": [],
   "source": [
    "def get_square(number):\n",
    "    return number ** 2\n",
    "\n",
    "def get_square_list(numbers):\n",
    "    elements = []\n",
    "    for number in numbers:\n",
    "        elements.append(get_square(number))\n",
    "    return elements\n"
   ]
  },
  {
   "cell_type": "code",
   "execution_count": 11,
   "metadata": {},
   "outputs": [
    {
     "data": {
      "text/plain": [
       "[1, 4, 9, 16, 25, 36, 49, 64, 81, 100]"
      ]
     },
     "execution_count": 11,
     "metadata": {},
     "output_type": "execute_result"
    }
   ],
   "source": [
    "numbers = list(range(1, 11))\n",
    "get_square_list(numbers)"
   ]
  },
  {
   "cell_type": "markdown",
   "metadata": {},
   "source": [
    "### <font color='blue'>미션2</font>"
   ]
  },
  {
   "cell_type": "code",
   "execution_count": 12,
   "metadata": {
    "collapsed": true
   },
   "outputs": [],
   "source": [
    "def get_positive_list(numbers):\n",
    "    elements = []\n",
    "    for number in numbers:\n",
    "        if number > 0:\n",
    "            elements.append(number)\n",
    "    return elements    "
   ]
  },
  {
   "cell_type": "code",
   "execution_count": 13,
   "metadata": {},
   "outputs": [
    {
     "data": {
      "text/plain": [
       "[1, 3, 5]"
      ]
     },
     "execution_count": 13,
     "metadata": {},
     "output_type": "execute_result"
    }
   ],
   "source": [
    "numbers = [1, -2, 3, -4, 5]\n",
    "get_positive_list(numbers)"
   ]
  },
  {
   "cell_type": "markdown",
   "metadata": {},
   "source": [
    "# Map, Filter, Reduce"
   ]
  },
  {
   "cell_type": "markdown",
   "metadata": {
    "collapsed": true
   },
   "source": [
    "### <font color='blue'>map</font>\n",
    "> \n",
    "- 입력값과 출력값이 1:1로 맵핑된다.\n",
    "- 즉, 한번만에 즉시 연산\n",
    "- cf. generator => 한번에 연산 X"
   ]
  },
  {
   "cell_type": "code",
   "execution_count": 14,
   "metadata": {},
   "outputs": [
    {
     "data": {
      "text/plain": [
       "[1, 4, 9, 16, 25]"
      ]
     },
     "execution_count": 14,
     "metadata": {},
     "output_type": "execute_result"
    }
   ],
   "source": [
    "list(map(  \n",
    "    get_square,         \n",
    "    [1, 2, 3, 4, 5],\n",
    "))"
   ]
  },
  {
   "cell_type": "code",
   "execution_count": 15,
   "metadata": {},
   "outputs": [
    {
     "data": {
      "text/plain": [
       "[1, 4, 9, 16, 25]"
      ]
     },
     "execution_count": 15,
     "metadata": {},
     "output_type": "execute_result"
    }
   ],
   "source": [
    "list(map(\n",
    "    lambda x: x ** 2,\n",
    "    [1, 2, 3, 4, 5]\n",
    "))"
   ]
  },
  {
   "cell_type": "code",
   "execution_count": 16,
   "metadata": {},
   "outputs": [
    {
     "data": {
      "text/plain": [
       "[1, 4, 9, 16, 25]"
      ]
     },
     "execution_count": 16,
     "metadata": {},
     "output_type": "execute_result"
    }
   ],
   "source": [
    "def get_square_list(numbers):\n",
    "    return list(map(lambda x: x ** 2, numbers))\n",
    "\n",
    "get_square_list([1, 2, 3, 4, 5])"
   ]
  },
  {
   "cell_type": "markdown",
   "metadata": {
    "collapsed": true
   },
   "source": [
    "### <font color='blue'>filter</font>\n",
    "> \n",
    "- 함수: 리스트를 받아서, 양수인 element 만 새로운 리스트 \n",
    "- input: [1, -2,  3, -4,  5] => [1, 3, 5]"
   ]
  },
  {
   "cell_type": "code",
   "execution_count": 17,
   "metadata": {},
   "outputs": [
    {
     "data": {
      "text/plain": [
       "[1, 3, 5]"
      ]
     },
     "execution_count": 17,
     "metadata": {},
     "output_type": "execute_result"
    }
   ],
   "source": [
    "numbers = [1, -2,  3, -4,  5]\n",
    "\n",
    "list(map(\n",
    "    lambda x: x > 0,\n",
    "    numbers,\n",
    "))   # Boolean List / Boolean Mask, Filtering Mask\n",
    "\n",
    "list(filter(\n",
    "    lambda x: x > 0,\n",
    "    numbers,\n",
    "))\n",
    "\n",
    "# map - element func apply\n",
    "# filter - element func apply, filtering when True ( Filtering Mask )"
   ]
  },
  {
   "cell_type": "code",
   "execution_count": 18,
   "metadata": {},
   "outputs": [
    {
     "data": {
      "text/plain": [
       "[1, 3, 5]"
      ]
     },
     "execution_count": 18,
     "metadata": {},
     "output_type": "execute_result"
    }
   ],
   "source": [
    "def get_positive_list(numbers):\n",
    "    elements = []\n",
    "    for number in numbers:\n",
    "        if number > 0:               # False, False, True, True\n",
    "            elements.append(number)\n",
    "    return elements\n",
    "\n",
    "get_positive_list(numbers)"
   ]
  },
  {
   "cell_type": "markdown",
   "metadata": {},
   "source": [
    " "
   ]
  },
  {
   "cell_type": "code",
   "execution_count": 19,
   "metadata": {
    "collapsed": true
   },
   "outputs": [],
   "source": [
    "list(filter(\n",
    "    lambda x: x > 0,\n",
    "    numbers,\n",
    "))\n",
    "\n",
    "def get_positive_list(numbers):\n",
    "    return list(filter(lambda x: x > 0, numbers))\n",
    "\n",
    "get_positive_list([1, -2,  3, -4,  5])\n",
    "\n",
    "\n",
    "get_positive_list = lambda numbers: list(filter(lambda x: x > 0, numbers))"
   ]
  },
  {
   "cell_type": "code",
   "execution_count": 20,
   "metadata": {},
   "outputs": [
    {
     "data": {
      "text/plain": [
       "[1, 3, 5]"
      ]
     },
     "execution_count": 20,
     "metadata": {},
     "output_type": "execute_result"
    }
   ],
   "source": [
    "get_positive_list([1, -2,  3, -4,  5])"
   ]
  },
  {
   "cell_type": "markdown",
   "metadata": {},
   "source": [
    "### <font color='blue'>reduce</font>\n",
    "> \n",
    "- 입력값을 순차적으로 한개씩 받아서 최종결과값을 갱신한다."
   ]
  },
  {
   "cell_type": "code",
   "execution_count": 21,
   "metadata": {
    "collapsed": true
   },
   "outputs": [],
   "source": [
    "# 1. 리스트를 받아서, 리스트의 숫자들 의 곱 | [1, 2, 3, 4] => 24\n",
    "# 2. 리스트를 받아서, 리스트 중에서 제일 큰 수 | [-1, 0, 2, 4, 3] => 4"
   ]
  },
  {
   "cell_type": "code",
   "execution_count": 22,
   "metadata": {},
   "outputs": [
    {
     "data": {
      "text/plain": [
       "24"
      ]
     },
     "execution_count": 22,
     "metadata": {},
     "output_type": "execute_result"
    }
   ],
   "source": [
    "# 1. 곱 \n",
    "\n",
    "def get_multiply(numbers):\n",
    "    result = 1\n",
    "    for number in numbers:\n",
    "        result *= number\n",
    "    return result\n",
    "\n",
    "get_multiply([1, 2, 3, 4])\n",
    "\n",
    "# 1, 1, 2, 3, 4\n",
    "#    1, 2, 3, 4\n",
    "#       2, 3, 4\n",
    "#          6, 4\n",
    "#            24"
   ]
  },
  {
   "cell_type": "code",
   "execution_count": 23,
   "metadata": {},
   "outputs": [
    {
     "data": {
      "text/plain": [
       "5"
      ]
     },
     "execution_count": 23,
     "metadata": {},
     "output_type": "execute_result"
    }
   ],
   "source": [
    "def get_max(numbers):\n",
    "    result = numbers[0]  # 만약에, 0이라고 했을 때 => 음수의 리스트 \n",
    "    for number in numbers:\n",
    "        if result < number:\n",
    "            result = number\n",
    "    return result\n",
    "\n",
    "get_max([3, -1, 5, -6])\n",
    "\n",
    "# 3, -1, 5, -6\n",
    "#     3, 5, -6\n",
    "#        5, -6\n",
    "#            5"
   ]
  },
  {
   "cell_type": "code",
   "execution_count": 24,
   "metadata": {
    "collapsed": true
   },
   "outputs": [],
   "source": [
    "# 최종적인 output \n",
    "# [init, a, b, c, d, e] => result"
   ]
  },
  {
   "cell_type": "code",
   "execution_count": 25,
   "metadata": {
    "collapsed": true
   },
   "outputs": [],
   "source": [
    "# reduce - python 2\n",
    "from functools import reduce"
   ]
  },
  {
   "cell_type": "code",
   "execution_count": 26,
   "metadata": {},
   "outputs": [
    {
     "data": {
      "text/plain": [
       "5"
      ]
     },
     "execution_count": 26,
     "metadata": {},
     "output_type": "execute_result"
    }
   ],
   "source": [
    "def get_bigger(a, b):\n",
    "    return a if a > b else b\n",
    "\n",
    "reduce(\n",
    "    get_bigger,\n",
    "    [3, -1, 5, -6],\n",
    ")                     # get_max"
   ]
  },
  {
   "cell_type": "code",
   "execution_count": 27,
   "metadata": {},
   "outputs": [
    {
     "data": {
      "text/plain": [
       "2"
      ]
     },
     "execution_count": 27,
     "metadata": {},
     "output_type": "execute_result"
    }
   ],
   "source": [
    "get_bigger(1, 2)"
   ]
  },
  {
   "cell_type": "code",
   "execution_count": 28,
   "metadata": {},
   "outputs": [
    {
     "data": {
      "text/plain": [
       "40"
      ]
     },
     "execution_count": 28,
     "metadata": {},
     "output_type": "execute_result"
    }
   ],
   "source": [
    "reduce(\n",
    "    get_bigger,\n",
    "    [1, 2, 40, 3, -1, 5, -6],\n",
    ")      "
   ]
  },
  {
   "cell_type": "code",
   "execution_count": 29,
   "metadata": {},
   "outputs": [
    {
     "data": {
      "text/plain": [
       "5"
      ]
     },
     "execution_count": 29,
     "metadata": {},
     "output_type": "execute_result"
    }
   ],
   "source": [
    "def get_bigger(a, b):\n",
    "    return a if a > b else b\n",
    "\n",
    "reduce(\n",
    "    get_bigger,\n",
    "    [3, -1, 5, -6],\n",
    ")                     # get_max\n",
    "\n",
    "reduce(\n",
    "    lambda x, y: x if x > y else y,\n",
    "    [3, -1, 5, -6],\n",
    ")\n",
    "\n",
    "def get_max(numbers):\n",
    "    return reduce(lambda x, y: x if x > y else y, numbers)\n",
    "\n",
    "get_max([3, -1, 5, -6])\n"
   ]
  },
  {
   "cell_type": "code",
   "execution_count": 30,
   "metadata": {
    "collapsed": true
   },
   "outputs": [],
   "source": [
    "# 리스트를 받아서, 모든 엘리먼트를 곱하는 기능\n",
    "\n",
    "# 1, 1, 2, 3, 4, 5 => 120"
   ]
  },
  {
   "cell_type": "code",
   "execution_count": 31,
   "metadata": {},
   "outputs": [
    {
     "name": "stdout",
     "output_type": "stream",
     "text": [
      "(0, 1)\n",
      "(0, 2)\n",
      "(0, 3)\n",
      "(0, 4)\n",
      "(0, 5)\n"
     ]
    },
    {
     "data": {
      "text/plain": [
       "0"
      ]
     },
     "execution_count": 31,
     "metadata": {},
     "output_type": "execute_result"
    }
   ],
   "source": [
    "def multiply(a, b):\n",
    "    print((a, b))\n",
    "    return a * b\n",
    "\n",
    "reduce(\n",
    "    multiply,\n",
    "    [1, 2, 3, 4, 5],\n",
    "    0,               # 기본값!!! (*)\n",
    ")\n"
   ]
  },
  {
   "cell_type": "code",
   "execution_count": 32,
   "metadata": {
    "collapsed": true
   },
   "outputs": [],
   "source": [
    "# 1. map      - apply\n",
    "# 2. filter   - apply, True\n",
    "# 3. reduce   - apply(a,b)"
   ]
  },
  {
   "cell_type": "markdown",
   "metadata": {},
   "source": [
    "### <font color='blue'>실습. Histogram 함수 작성해보기</font>\n",
    "> 리스트를 받아서, 히스토그램을 그리는 함수\n",
    "- 입력값 : [\"cat\", \"cat\", \"cat\", \"sheep\", \"sheep\", \"duck\", \"duck\", \"duck\", \"duck\" ]"
   ]
  },
  {
   "cell_type": "raw",
   "metadata": {
    "collapsed": true
   },
   "source": [
    "### 1. 히스토그램을 그리는 함수 \n",
    "###  input: {'cat': 3, 'duck': 4, 'sheep': 2} => output: 그림 \n",
    "\n",
    "### 2. 리스트를 받아서, 숫자를 세는 함수\n",
    "###  input: list => output: histogram dict"
   ]
  },
  {
   "cell_type": "code",
   "execution_count": 33,
   "metadata": {
    "collapsed": true
   },
   "outputs": [],
   "source": [
    "data = [\"cat\", \"cat\", \"cat\", \"sheep\", \"sheep\", \"duck\", \"duck\", \"duck\", \"duck\" ]"
   ]
  },
  {
   "cell_type": "code",
   "execution_count": 34,
   "metadata": {},
   "outputs": [
    {
     "name": "stdout",
     "output_type": "stream",
     "text": [
      "{'cat': 3, 'duck': 4, 'sheep': 2}\n",
      "---------------------------------------- \n",
      "  dog   ====\n",
      "  cat   ==\n",
      "  bird  ===\n",
      "\n"
     ]
    }
   ],
   "source": [
    "result_dict = {'cat': 3, 'duck': 4, 'sheep': 2}\n",
    "result_hist = \"\"\"\n",
    "  dog   ====\n",
    "  cat   ==\n",
    "  bird  ===\n",
    "\"\"\"\n",
    "\n",
    "print(result_dict)\n",
    "print('-'*40, result_hist)"
   ]
  },
  {
   "cell_type": "markdown",
   "metadata": {},
   "source": [
    "### # 각자 reduce를 활용하여  아래와 같은 Histogram이 출력되도록 함수를 구현해보세요 !!!"
   ]
  },
  {
   "cell_type": "code",
   "execution_count": null,
   "metadata": {
    "collapsed": true
   },
   "outputs": [],
   "source": [
    "def draw_histogram(data):\n",
    "    pass\n",
    "    pass\n",
    "    pass"
   ]
  },
  {
   "cell_type": "code",
   "execution_count": null,
   "metadata": {
    "collapsed": true
   },
   "outputs": [],
   "source": []
  },
  {
   "cell_type": "code",
   "execution_count": null,
   "metadata": {
    "collapsed": true
   },
   "outputs": [],
   "source": []
  },
  {
   "cell_type": "code",
   "execution_count": 39,
   "metadata": {},
   "outputs": [
    {
     "name": "stdout",
     "output_type": "stream",
     "text": [
      "cat    ===\n",
      "sheep  ==\n",
      "duck   ====\n"
     ]
    }
   ],
   "source": [
    "draw_histogram(data)"
   ]
  },
  {
   "cell_type": "markdown",
   "metadata": {},
   "source": [
    "<hr>\n",
    "<marquee><font size=3 color='brown'>The BigpyCraft find the information to design valuable society with Technology & Craft.</font></marquee>\n",
    "<div align='right'><font size=2 color='gray'> &lt; The End &gt; </font></div>"
   ]
  }
 ],
 "metadata": {
  "kernelspec": {
   "display_name": "Python 3",
   "language": "python",
   "name": "python3"
  },
  "language_info": {
   "codemirror_mode": {
    "name": "ipython",
    "version": 3
   },
   "file_extension": ".py",
   "mimetype": "text/x-python",
   "name": "python",
   "nbconvert_exporter": "python",
   "pygments_lexer": "ipython3",
   "version": "3.6.3"
  }
 },
 "nbformat": 4,
 "nbformat_minor": 1
}
